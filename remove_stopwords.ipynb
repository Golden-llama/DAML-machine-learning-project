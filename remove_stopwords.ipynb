{
 "cells": [
  {
   "cell_type": "code",
   "execution_count": 8,
   "id": "70a28bf6",
   "metadata": {},
   "outputs": [
    {
     "name": "stderr",
     "output_type": "stream",
     "text": [
      "[nltk_data] Downloading package stopwords to\n",
      "[nltk_data]     /Users/alysayao/nltk_data...\n",
      "[nltk_data]   Package stopwords is already up-to-date!\n",
      "[nltk_data] Downloading package punkt to /Users/alysayao/nltk_data...\n",
      "[nltk_data]   Package punkt is already up-to-date!\n",
      "[nltk_data] Downloading package punkt_tab to\n",
      "[nltk_data]     /Users/alysayao/nltk_data...\n",
      "[nltk_data]   Package punkt_tab is already up-to-date!\n"
     ]
    },
    {
     "data": {
      "text/plain": [
       "True"
      ]
     },
     "execution_count": 8,
     "metadata": {},
     "output_type": "execute_result"
    }
   ],
   "source": [
    "import pandas as pd\n",
    "\n",
    "import nltk\n",
    "from nltk.corpus import stopwords\n",
    "from nltk.tokenize import word_tokenize\n",
    "nltk.download('stopwords')\n",
    "nltk.download('punkt')\n",
    "nltk.download('punkt_tab')"
   ]
  },
  {
   "cell_type": "code",
   "execution_count": 24,
   "id": "bd49da10",
   "metadata": {},
   "outputs": [],
   "source": [
    "df = pd.read_csv('nopunct.csv')\n",
    "stop_words = set(stopwords.words('english'))\n",
    "\n",
    "def remove_stopwords(text):\n",
    "    \n",
    "        words = word_tokenize(text)\n",
    "        filtered = [word for word in words if word.lower() not in stop_words]\n",
    "        return \" \".join(filtered)\n",
    "    "
   ]
  },
  {
   "cell_type": "code",
   "execution_count": 25,
   "id": "64bccdda",
   "metadata": {},
   "outputs": [
    {
     "name": "stdout",
     "output_type": "stream",
     "text": [
      "0        No comment is expected from Barack Obama Membe...\n",
      "1            Did they post their votes for Hillary already\n",
      "2         Now most of the demonstrators gathered last n...\n",
      "3        A dozen politically active pastors came here f...\n",
      "4        The RS28 Sarmat missile dubbed Satan 2 will re...\n",
      "                               ...                        \n",
      "72129    WASHINGTON Reuters  Hackers believed to be wor...\n",
      "72130    You know because in fantasyland Republicans ne...\n",
      "72131    Migrants Refuse To Leave Train At Refugee Camp...\n",
      "72132    MEXICO CITY Reuters  Donald Trump’s combative ...\n",
      "72133    Goldman Sachs Endorses Hillary Clinton For Pre...\n",
      "Name: text_no_punct, Length: 72134, dtype: object\n",
      "0        No comment is expected from Barack Obama Membe...\n",
      "1           Did they post their votes for Hillary already?\n",
      "2         Now, most of the demonstrators gathered last ...\n",
      "3        A dozen politically active pastors came here f...\n",
      "4        The RS-28 Sarmat missile, dubbed Satan 2, will...\n",
      "                               ...                        \n",
      "72129    WASHINGTON (Reuters) - Hackers believed to be ...\n",
      "72130    You know, because in fantasyland Republicans n...\n",
      "72131    Migrants Refuse To Leave Train At Refugee Camp...\n",
      "72132    MEXICO CITY (Reuters) - Donald Trump’s combati...\n",
      "72133    Goldman Sachs Endorses Hillary Clinton For Pre...\n",
      "Name: text, Length: 72134, dtype: object\n"
     ]
    }
   ],
   "source": [
    "print(df['text_no_punct'])\n",
    "print(df['text'])"
   ]
  },
  {
   "cell_type": "code",
   "execution_count": 26,
   "id": "0d414d97",
   "metadata": {},
   "outputs": [],
   "source": [
    "df['text'] = df['text_no_punct'].astype(str).apply(remove_stopwords)\n"
   ]
  },
  {
   "cell_type": "code",
   "execution_count": 28,
   "id": "ad73b40d",
   "metadata": {},
   "outputs": [
    {
     "name": "stdout",
     "output_type": "stream",
     "text": [
      "0        comment expected Barack Obama Members FYF911 F...\n",
      "1                               post votes Hillary already\n",
      "2        demonstrators gathered last night exercising c...\n",
      "3        dozen politically active pastors came private ...\n",
      "4        RS28 Sarmat missile dubbed Satan 2 replace SS1...\n",
      "                               ...                        \n",
      "72129    WASHINGTON Reuters Hackers believed working Ru...\n",
      "72130    know fantasyland Republicans never questioned ...\n",
      "72131    Migrants Refuse Leave Train Refugee Camp Hunga...\n",
      "72132    MEXICO CITY Reuters Donald Trump ’ combative s...\n",
      "72133    Goldman Sachs Endorses Hillary Clinton Preside...\n",
      "Name: text, Length: 72134, dtype: object\n",
      "0        No comment is expected from Barack Obama Membe...\n",
      "1            Did they post their votes for Hillary already\n",
      "2         Now most of the demonstrators gathered last n...\n",
      "3        A dozen politically active pastors came here f...\n",
      "4        The RS28 Sarmat missile dubbed Satan 2 will re...\n",
      "                               ...                        \n",
      "72129    WASHINGTON Reuters  Hackers believed to be wor...\n",
      "72130    You know because in fantasyland Republicans ne...\n",
      "72131    Migrants Refuse To Leave Train At Refugee Camp...\n",
      "72132    MEXICO CITY Reuters  Donald Trump’s combative ...\n",
      "72133    Goldman Sachs Endorses Hillary Clinton For Pre...\n",
      "Name: text_no_punct, Length: 72134, dtype: object\n"
     ]
    }
   ],
   "source": [
    "print(df['text'])\n",
    "print(df['text_no_punct'])"
   ]
  },
  {
   "cell_type": "code",
   "execution_count": 30,
   "id": "7e25e30c",
   "metadata": {},
   "outputs": [],
   "source": [
    "df['title'] = df['title_no_punct'].astype(str).apply(remove_stopwords)"
   ]
  },
  {
   "cell_type": "code",
   "execution_count": 31,
   "id": "a08306d1",
   "metadata": {},
   "outputs": [],
   "source": [
    "df.drop(columns=['text_no_punct','title_no_punct'], inplace = True)"
   ]
  },
  {
   "cell_type": "code",
   "execution_count": 32,
   "id": "746904c7",
   "metadata": {},
   "outputs": [
    {
     "name": "stdout",
     "output_type": "stream",
     "text": [
      "0        LAW ENFORCEMENT HIGH ALERT Following Threats C...\n",
      "1                                                      nan\n",
      "2        UNBELIEVABLE OBAMA ’ ATTORNEY GENERAL SAYS CHA...\n",
      "3        Bobby Jindal raised Hindu uses story Christian...\n",
      "4        SATAN 2 Russia unvelis image terrifying new ‘ ...\n",
      "                               ...                        \n",
      "72129    Russians steal research Trump hack US Democrat...\n",
      "72130    WATCH Giuliani Demands Democrats Apologize Tru...\n",
      "72131     Migrants Refuse Leave Train Refugee Camp Hungary\n",
      "72132    Trump tussle gives unpopular Mexican leader mu...\n",
      "72133     Goldman Sachs Endorses Hillary Clinton President\n",
      "Name: title, Length: 72134, dtype: object\n"
     ]
    }
   ],
   "source": [
    "print(df['title'])"
   ]
  },
  {
   "cell_type": "code",
   "execution_count": 33,
   "id": "b6897fca",
   "metadata": {},
   "outputs": [],
   "source": [
    "df.to_csv('nostopwords.csv', index = False)"
   ]
  },
  {
   "cell_type": "code",
   "execution_count": 16,
   "id": "b808b0d1",
   "metadata": {},
   "outputs": [
    {
     "name": "stdout",
     "output_type": "stream",
     "text": [
      "   Unnamed: 0                                              title  \\\n",
      "0           0  LAW ENFORCEMENT HIGH ALERT Following Threats C...   \n",
      "1           1                                                NaN   \n",
      "2           2  UNBELIEVABLE OBAMA ’ ATTORNEY GENERAL SAYS CHA...   \n",
      "3           3  Bobby Jindal raised Hindu uses story Christian...   \n",
      "4           4  SATAN 2 Russia unvelis image terrifying new ‘ ...   \n",
      "5           5  Time Christian Group Sues Amazon SPLC Designat...   \n",
      "6           6  DR BEN CARSON TARGETED IRS “ never audit spoke...   \n",
      "7           7  HOUSE INTEL CHAIR TrumpRussia Fake Story “ evi...   \n",
      "8           8  Sports Bar Owner Bans NFL Games…Will Show ‘ Tr...   \n",
      "9           9  Latest Pipeline Leak Underscores Dangers Dakot...   \n",
      "\n",
      "                                                text  label  \n",
      "0  comment expected Barack Obama Members FYF911 F...      1  \n",
      "1                         post votes Hillary already      1  \n",
      "2  demonstrators gathered last night exercising c...      1  \n",
      "3  dozen politically active pastors came private ...      0  \n",
      "4  RS28 Sarmat missile dubbed Satan 2 replace SS1...      1  \n",
      "5  say one time someone sued Southern Poverty Law...      1  \n",
      "6     DR BEN CARSON TELLS STORY HAPPENED SPOKE OBAMA      1  \n",
      "7                                                         1  \n",
      "8  owner Ringling Bar located south White Sulphur...      1  \n",
      "9  FILE – Sept 15 2005 file photo marker welcomes...      1  \n"
     ]
    }
   ],
   "source": [
    "print(df.head(10))"
   ]
  }
 ],
 "metadata": {
  "kernelspec": {
   "display_name": "venv",
   "language": "python",
   "name": "python3"
  },
  "language_info": {
   "codemirror_mode": {
    "name": "ipython",
    "version": 3
   },
   "file_extension": ".py",
   "mimetype": "text/x-python",
   "name": "python",
   "nbconvert_exporter": "python",
   "pygments_lexer": "ipython3",
   "version": "3.14.0"
  }
 },
 "nbformat": 4,
 "nbformat_minor": 5
}
